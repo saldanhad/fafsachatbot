{
 "cells": [
  {
   "cell_type": "code",
   "execution_count": 1,
   "metadata": {},
   "outputs": [
    {
     "name": "stdout",
     "output_type": "stream",
     "text": [
      "Note: you may need to restart the kernel to use updated packages.\n",
      "Note: you may need to restart the kernel to use updated packages.\n",
      "Note: you may need to restart the kernel to use updated packages.\n",
      "Note: you may need to restart the kernel to use updated packages.\n"
     ]
    }
   ],
   "source": [
    "%pip install --upgrade langchain huggingface-hub sentence_transformers -q\n",
    "%pip install unstructured -q\n",
    "%pip install unstructured[local-inference] -q\n",
    "%pip install tiktoken openai -q"
   ]
  },
  {
   "cell_type": "code",
   "execution_count": 18,
   "metadata": {},
   "outputs": [],
   "source": [
    "#load documents using langchain document loader\n",
    "from langchain.document_loaders import DirectoryLoader\n",
    "\n",
    "# I compiled all the required documents in one folder\n",
    "directory = \"directory locaton of your folder\"\n",
    "\n",
    "def load_docs(directory):\n",
    "  loader = DirectoryLoader(directory)\n",
    "  documents = loader.load()\n",
    "  return documents\n",
    "\n",
    "documents=load_docs(directory)\n",
    "\n",
    "#make chunks from the pdf\n",
    "from langchain.text_splitter import RecursiveCharacterTextSplitter\n",
    "#create chunks of 1000 words each\n",
    "text_splitter = RecursiveCharacterTextSplitter(chunk_size=1000, chunk_overlap=100, separators=[\"\\n\\n\",\"\\n\",\"(?<=\\.)\", \" \",\"\"])\n",
    "docs = text_splitter.split_documents(documents)\n",
    "print(len(docs))"
   ]
  },
  {
   "cell_type": "code",
   "execution_count": null,
   "metadata": {},
   "outputs": [],
   "source": [
    "docs[0]"
   ]
  },
  {
   "cell_type": "code",
   "execution_count": 9,
   "metadata": {},
   "outputs": [
    {
     "data": {
      "text/plain": [
       "1536"
      ]
     },
     "execution_count": 9,
     "metadata": {},
     "output_type": "execute_result"
    }
   ],
   "source": [
    "from langchain.embeddings.huggingface import HuggingFaceEmbeddings\n",
    "#use openAI embedder\n",
    "import os\n",
    "import openai\n",
    "from langchain.embeddings.openai import OpenAIEmbeddings\n",
    "from dotenv import load_dotenv\n",
    "\n",
    "os.environ[\"OPENAI_API_KEY\"] =  'your_openai_api_key'\n",
    "Embedding = OpenAIEmbeddings()\n",
    "\n",
    "#check size of embeddings, if using specific vector database\n",
    "query_result = Embedding.embed_query(\"Hello World\")\n",
    "len(query_result)"
   ]
  },
  {
   "cell_type": "code",
   "execution_count": 12,
   "metadata": {},
   "outputs": [],
   "source": [
    "#load generated emebeddings into Azure Blob Storage\n",
    "#connection details from Azure where the pickle files are stored and updated.\n",
    "\n",
    "import pickle\n",
    "from azure.storage.blob import BlobServiceClient, BlobClient, ContainerClient\n",
    "from dotenv import load_dotenv\n",
    "dotenv_path = 'C:\\\\.env'  # Replace with your actual file path \n",
    "load_dotenv(dotenv_path)\n",
    "\n",
    "#connection details from Azure where the pickle files are stored and updated.\n",
    "connection_string = os.getenv('AZURE_CONNECTION_STRING')\n",
    "container_name = os.getenv('AZURE_CONTAINER_NAME')\n",
    "\n",
    "blob_service_client = BlobServiceClient.from_connection_string(connection_string)\n",
    "\n",
    "\n",
    "\n",
    "\n",
    "def save_to_blob(data, blob_name):\n",
    "    serialized_data = pickle.dumps(data)\n",
    "    blob_client = blob_service_client.get_blob_client(container_name,blob_name)\n",
    "    blob_client.upload_blob(serialized_data, overwrite=True)\n",
    "\n",
    "\n",
    "def load_from_blob(blob_name):\n",
    "    blob_client = blob_service_client.get_blob_client(container_name, blob_name)\n",
    "    serialized_data = blob_client.download_blob().readall()\n",
    "    data = pickle.loads(serialized_data)\n",
    "    return data"
   ]
  },
  {
   "cell_type": "code",
   "execution_count": 13,
   "metadata": {},
   "outputs": [],
   "source": [
    "#generate and save embeddings to azure blob storage using FAISS vector store\n",
    "import faiss\n",
    "from langchain.vectorstores import FAISS\n",
    "embeddings = OpenAIEmbeddings()\n",
    "\n",
    "db = FAISS.from_documents(docs,embeddings)"
   ]
  },
  {
   "cell_type": "code",
   "execution_count": 14,
   "metadata": {},
   "outputs": [],
   "source": [
    "faiss.write_index(db.index, \"docs.index\")\n",
    "db.index=None"
   ]
  },
  {
   "cell_type": "code",
   "execution_count": 15,
   "metadata": {},
   "outputs": [],
   "source": [
    "save_to_blob(db, 'embeddings.pkl')\n",
    "save_to_blob('docs.index', 'docs.pkl')"
   ]
  },
  {
   "cell_type": "code",
   "execution_count": null,
   "metadata": {},
   "outputs": [],
   "source": [
    "#test, load from blob\n",
    "db = load_from_blob('embeddings.pkl')\n",
    "k1 = load_from_blob('docs.pkl')\n",
    "\n",
    "index = faiss.read_index(k1)\n",
    "db.index = index"
   ]
  }
 ],
 "metadata": {
  "kernelspec": {
   "display_name": "myenv",
   "language": "python",
   "name": "python3"
  },
  "language_info": {
   "codemirror_mode": {
    "name": "ipython",
    "version": 3
   },
   "file_extension": ".py",
   "mimetype": "text/x-python",
   "name": "python",
   "nbconvert_exporter": "python",
   "pygments_lexer": "ipython3",
   "version": "3.10.8"
  },
  "orig_nbformat": 4
 },
 "nbformat": 4,
 "nbformat_minor": 2
}
